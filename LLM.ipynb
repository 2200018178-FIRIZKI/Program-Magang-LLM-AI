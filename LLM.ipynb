{
  "nbformat": 4,
  "nbformat_minor": 0,
  "metadata": {
    "colab": {
      "private_outputs": true,
      "provenance": [],
      "include_colab_link": true
    },
    "kernelspec": {
      "name": "python3",
      "display_name": "Python 3"
    },
    "language_info": {
      "name": "python"
    }
  },
  "cells": [
    {
      "cell_type": "markdown",
      "metadata": {
        "id": "view-in-github",
        "colab_type": "text"
      },
      "source": [
        "<a href=\"https://colab.research.google.com/github/2200018178-FIRIZKI/Program-Magang-LLM-AI/blob/main/LLM.ipynb\" target=\"_parent\"><img src=\"https://colab.research.google.com/assets/colab-badge.svg\" alt=\"Open In Colab\"/></a>"
      ]
    },
    {
      "cell_type": "code",
      "execution_count": null,
      "metadata": {
        "id": "8O6Gy5BOtaFK"
      },
      "outputs": [],
      "source": [
        "!pip install -U -q google-generativeai langchain langchain-google-genai langchain_community pypdf chromadb"
      ]
    },
    {
      "cell_type": "code",
      "source": [
        "from google.colab import userdata\n",
        "from langchain_text_splitters import NLTKTextSplitter\n",
        "from langchain_google_genai import ChatGoogleGenerativeAI\n",
        "from langchain_google_genai import GoogleGenerativeAIEmbeddings\n",
        "from langchain_community.vectorstores import chroma\n",
        "from langchain_community.vectorstores import Typesense\n",
        "from IPython.display import Markdown as md"
      ],
      "metadata": {
        "id": "yRVfQPEawB2W"
      },
      "execution_count": null,
      "outputs": []
    },
    {
      "cell_type": "code",
      "source": [
        "import nltk\n",
        "nltk.download('punkt_tab')"
      ],
      "metadata": {
        "id": "azuRXwBDzFPc"
      },
      "execution_count": null,
      "outputs": []
    },
    {
      "cell_type": "code",
      "source": [
        "!curl -o ai_pv.pdf https://www.pearsonvue.com/content/dam/VUE/vue/en/documents/clients/it-specialist/its-od-307-artificial-intel-pearson.pdf"
      ],
      "metadata": {
        "id": "ixaMgeqq12RW"
      },
      "execution_count": null,
      "outputs": []
    },
    {
      "cell_type": "markdown",
      "source": [
        "##Download file (PDF)"
      ],
      "metadata": {
        "id": "iAcxEUU23R3r"
      }
    },
    {
      "cell_type": "code",
      "source": [
        "api_key = userdata.get('API_KEY')\n",
        "chat_model= ChatGoogleGenerativeAI(google_api_key=api_key,\n",
        "                                   model='gemini-2.5-flash',\n",
        "                                   temperature=0.9)"
      ],
      "metadata": {
        "id": "366WYKLi0c1b"
      },
      "execution_count": null,
      "outputs": []
    },
    {
      "cell_type": "code",
      "source": [
        "from langchain.document_loaders import PyPDFLoader\n",
        "loader = PyPDFLoader('ai_pv.pdf')\n",
        "pages = loader.load_and_split()"
      ],
      "metadata": {
        "id": "MOJLd92z3Wsi"
      },
      "execution_count": null,
      "outputs": []
    },
    {
      "cell_type": "markdown",
      "source": [
        "# LLM"
      ],
      "metadata": {
        "id": "pfg5MxCH4Q8J"
      }
    },
    {
      "cell_type": "code",
      "source": [
        "api_key = userdata.get('API_KEY')\n",
        "chat_model = ChatGoogleGenerativeAI(google_api_key=api_key,\n",
        "                                  model='gemini-1.5-pro-latest',\n",
        "                                  temperature=0.9)"
      ],
      "metadata": {
        "id": "TAIx4kxA4U8D"
      },
      "execution_count": null,
      "outputs": []
    },
    {
      "cell_type": "markdown",
      "source": [
        "##chunking"
      ],
      "metadata": {
        "id": "YoGgBbm8zYej"
      }
    },
    {
      "cell_type": "code",
      "source": [
        "text_splitter= NLTKTextSplitter(chunk_size=500,\n",
        "                             chunk_overlap=100)\n",
        "\n",
        "chunks= text_splitter.split_documents(pages)\n",
        "print(len(chunks))"
      ],
      "metadata": {
        "id": "cUqvbpV54CEl"
      },
      "execution_count": null,
      "outputs": []
    },
    {
      "cell_type": "markdown",
      "source": [
        "##Embeding"
      ],
      "metadata": {
        "id": "fZDXbQvXzgNT"
      }
    },
    {
      "cell_type": "code",
      "source": [],
      "metadata": {
        "id": "riEguXG_zhWD"
      },
      "execution_count": null,
      "outputs": []
    }
  ]
}